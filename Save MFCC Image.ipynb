{
 "cells": [
  {
   "cell_type": "markdown",
   "id": "6224710d",
   "metadata": {},
   "source": [
    "## Import Libraries"
   ]
  },
  {
   "cell_type": "code",
   "execution_count": null,
   "id": "ec8e8566-d977-47d7-aed6-54424f015a5b",
   "metadata": {},
   "outputs": [],
   "source": [
    "import pandas as pd"
   ]
  },
  {
   "cell_type": "code",
   "execution_count": null,
   "id": "7de1cbd6-c8a9-4698-a7c7-27999a18b04d",
   "metadata": {},
   "outputs": [],
   "source": [
    "import skimage.io\n",
    "from skimage import img_as_ubyte"
   ]
  },
  {
   "cell_type": "code",
   "execution_count": null,
   "id": "04480ca7-0c02-40c8-920f-5655c49b44bb",
   "metadata": {},
   "outputs": [],
   "source": [
    "\n",
    "import numpy\n",
    "import librosa\n",
    "import librosa.display\n",
    "import IPython.display"
   ]
  },
  {
   "cell_type": "code",
   "execution_count": null,
   "id": "7dde1d4b-84ee-49e0-b3af-2d5de169f458",
   "metadata": {},
   "outputs": [],
   "source": [
    "from pathlib import Path\n",
    "from tqdm import tqdm"
   ]
  },
  {
   "cell_type": "code",
   "execution_count": null,
   "id": "3802823a",
   "metadata": {},
   "outputs": [],
   "source": [
    "import os"
   ]
  },
  {
   "cell_type": "code",
   "execution_count": null,
   "id": "8eca45ab-13cb-4b21-a420-16ea65a12995",
   "metadata": {},
   "outputs": [],
   "source": [
    "file_source = pd.read_csv(\"file_source.csv\")"
   ]
  },
  {
   "cell_type": "markdown",
   "id": "e380901f-4316-40c0-8d9d-f9925b146741",
   "metadata": {},
   "source": [
    "# Creating the folder if not exists"
   ]
  },
  {
   "cell_type": "code",
   "execution_count": null,
   "id": "6282aecc-0a6e-4b54-bccb-3ecb90ed344d",
   "metadata": {},
   "outputs": [],
   "source": [
    "isExist = os.path.exists(file_source.MFCC_Image_Path.iloc[0])\n",
    "isExist"
   ]
  },
  {
   "cell_type": "code",
   "execution_count": null,
   "id": "1c38fccd-f01c-4955-8445-7185099b52b6",
   "metadata": {},
   "outputs": [],
   "source": [
    "count = 0 \n",
    "from IPython.display import clear_output\n",
    "for idx,row in tqdm(file_source.iterrows(), total = len(file_source)):\n",
    "    file_input = row[\"Trimmed Path\"].replace(\"/content/DSER-MIDCA/\",\"audio_data/\")\n",
    "    file_input_10db = row[\"Trimmed 10db AWGN Path\"].replace(\"/content/DSER-MIDCA/\",\"audio_data/\")\n",
    "    file_input_20db = row[\"Trimmed 20db AWGN Path\"].replace(\"/content/DSER-MIDCA/\",\"audio_data/\")\n",
    "    file_ouput = row[\"MFCC_Image_Path\"]\n",
    "    file_ouput_10db = row[\"MFCC_Image_Path_10db_AWGN\"]\n",
    "    file_ouput_20db = row[\"MFCC_Image_Path_20db_AWGN\"]\n",
    "    \n",
    "    path_dict = {file_input:file_ouput, file_input_10db : file_ouput_10db , file_input_20db : file_ouput_20db }\n",
    "    for k,v in path_dict.items():\n",
    "        isExist = os.path.exists(v)\n",
    "        if isExist:\n",
    "            count = count + 1\n",
    "    print(\"Iteration:\",count/3)\n",
    "    clear_output(wait=True)"
   ]
  },
  {
   "cell_type": "code",
   "execution_count": null,
   "id": "8951bdde-9f11-4d47-8e28-8d488e4f3dfa",
   "metadata": {},
   "outputs": [],
   "source": [
    "min_sample_rate = file_source[\"Sample Rate\"].min()"
   ]
  },
  {
   "cell_type": "markdown",
   "id": "51cb250d",
   "metadata": {},
   "source": [
    "## Saving MFCC as Image"
   ]
  },
  {
   "cell_type": "code",
   "execution_count": null,
   "id": "57d262a8-4f17-4048-97fa-e17bc4e96ae0",
   "metadata": {},
   "outputs": [],
   "source": [
    "import matplotlib.pyplot as plt"
   ]
  },
  {
   "cell_type": "code",
   "execution_count": null,
   "id": "e22dddfe-5e1b-4830-9831-72d7a0ff518a",
   "metadata": {},
   "outputs": [],
   "source": [
    "\n",
    "count = 0 \n",
    "for idx,row in file_source.iterrows():\n",
    "    try:\n",
    "\n",
    "        file_input = row[\"Trimmed Path\"].replace(\"/content/DSER-MIDCA/\",\"audio_data/\")\n",
    "        file_input_10db = row[\"Trimmed 10db AWGN Path\"].replace(\"/content/DSER-MIDCA/\",\"audio_data/\")\n",
    "        file_input_20db = row[\"Trimmed 20db AWGN Path\"].replace(\"/content/DSER-MIDCA/\",\"audio_data/\")\n",
    "        file_ouput = row[\"MFCC_Image_Path\"]\n",
    "        file_ouput_10db = row[\"MFCC_Image_Path_10db_AWGN\"]\n",
    "        file_ouput_20db = row[\"MFCC_Image_Path_20db_AWGN\"]\n",
    "\n",
    "        path_dict = {file_input:file_ouput, file_input_10db : file_ouput_10db , file_input_20db : file_ouput_20db }\n",
    "        for k,v in path_dict.items():\n",
    "            isExist = os.path.exists(v)\n",
    "            if isExist:\n",
    "                print(f\"Exists: {v}\")\n",
    "                continue\n",
    "            y, sr  = librosa.load(k)\n",
    "            mfcc = librosa.feature.mfcc(y=y, sr=min_sample_rate)\n",
    "\n",
    "            plt.figure(figsize=(10.24,5.12))\n",
    "            plot_data = librosa.display.specshow(mfcc,sr=min_sample_rate)\n",
    "            plt.savefig(v,pad_inches = -0.1, bbox_inches='tight')\n",
    "            print(f\"Created : {v}\")\n",
    "        count = count + 1\n",
    "        print(\"Iteration:\",count)\n",
    "        clear_output(wait=True)\n",
    "    except Exception as ex:\n",
    "        print(file_input,ex)\n",
    "        break"
   ]
  },
  {
   "cell_type": "code",
   "execution_count": null,
   "id": "b79b87cb-a5e4-4a89-9a80-e355d946ce59",
   "metadata": {},
   "outputs": [],
   "source": [
    "print(\"Done\")"
   ]
  },
  {
   "cell_type": "code",
   "execution_count": null,
   "id": "43abc543-03d9-4ff5-a048-fdb0bfecfe0d",
   "metadata": {},
   "outputs": [],
   "source": []
  }
 ],
 "metadata": {
  "kernelspec": {
   "display_name": "conda_tensorflow2_p310",
   "language": "python",
   "name": "conda_tensorflow2_p310"
  },
  "language_info": {
   "codemirror_mode": {
    "name": "ipython",
    "version": 3
   },
   "file_extension": ".py",
   "mimetype": "text/x-python",
   "name": "python",
   "nbconvert_exporter": "python",
   "pygments_lexer": "ipython3",
   "version": "3.10.6"
  }
 },
 "nbformat": 4,
 "nbformat_minor": 5
}
