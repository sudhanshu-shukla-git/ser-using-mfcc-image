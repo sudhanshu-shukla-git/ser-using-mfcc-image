{
 "cells": [
  {
   "cell_type": "markdown",
   "id": "10b0dec9",
   "metadata": {},
   "source": [
    "## Importing Libraries"
   ]
  },
  {
   "cell_type": "code",
   "execution_count": 7,
   "id": "fb485ae6-1bcf-4752-bfb9-9420126b66c6",
   "metadata": {},
   "outputs": [],
   "source": [
    "import pandas as pd\n",
    "import matplotlib.pyplot as plt\n",
    "import seaborn as sns"
   ]
  },
  {
   "cell_type": "code",
   "execution_count": 8,
   "id": "afaa6452-b86f-4579-9217-282a0608c426",
   "metadata": {},
   "outputs": [],
   "source": [
    "all_datasets = [ \"IEMOCAP\" ,\"EMODB\" ,\"SAVEE\" ,\"RAVDESS\"]"
   ]
  },
  {
   "cell_type": "code",
   "execution_count": 9,
   "id": "e094edd5-9501-45c2-a30c-dd21d9fcef3f",
   "metadata": {},
   "outputs": [],
   "source": [
    "common_emotions = pd.read_csv(\"common_emotion_source.csv\")"
   ]
  },
  {
   "cell_type": "code",
   "execution_count": 10,
   "id": "5f476993-0814-463b-b8e1-d714ad23b8b7",
   "metadata": {},
   "outputs": [
    {
     "data": {
      "text/plain": [
       "IEMOCAP    4532\n",
       "RAVDESS    1056\n",
       "EMODB       535\n",
       "SAVEE       420\n",
       "Name: Source, dtype: int64"
      ]
     },
     "execution_count": 10,
     "metadata": {},
     "output_type": "execute_result"
    }
   ],
   "source": [
    "common_emotions[\"Source\"].value_counts()"
   ]
  },
  {
   "cell_type": "code",
   "execution_count": 11,
   "id": "b103a4dc-12d6-4e8f-91c6-0b5ee652d10f",
   "metadata": {},
   "outputs": [
    {
     "data": {
      "text/html": [
       "<div>\n",
       "<style scoped>\n",
       "    .dataframe tbody tr th:only-of-type {\n",
       "        vertical-align: middle;\n",
       "    }\n",
       "\n",
       "    .dataframe tbody tr th {\n",
       "        vertical-align: top;\n",
       "    }\n",
       "\n",
       "    .dataframe thead th {\n",
       "        text-align: right;\n",
       "    }\n",
       "</style>\n",
       "<table border=\"1\" class=\"dataframe\">\n",
       "  <thead>\n",
       "    <tr style=\"text-align: right;\">\n",
       "      <th></th>\n",
       "      <th>Emotions</th>\n",
       "      <th>Path</th>\n",
       "      <th>Source</th>\n",
       "      <th>MFCC_Image_Path</th>\n",
       "      <th>MFCC_Image_Path_10db_AWGN</th>\n",
       "      <th>MFCC_Image_Path_20db_AWGN</th>\n",
       "    </tr>\n",
       "  </thead>\n",
       "  <tbody>\n",
       "    <tr>\n",
       "      <th>0</th>\n",
       "      <td>neutral</td>\n",
       "      <td>/content/DSER-MIDCA/data/IEMOCAP/Session1/sent...</td>\n",
       "      <td>IEMOCAP</td>\n",
       "      <td>mfcc_images/IEMOCAP/Session1/sentences/wav/Ses...</td>\n",
       "      <td>mfcc_images_10db/IEMOCAP/Session1/sentences/wa...</td>\n",
       "      <td>mfcc_images_20db/IEMOCAP/Session1/sentences/wa...</td>\n",
       "    </tr>\n",
       "    <tr>\n",
       "      <th>1</th>\n",
       "      <td>neutral</td>\n",
       "      <td>/content/DSER-MIDCA/data/IEMOCAP/Session1/sent...</td>\n",
       "      <td>IEMOCAP</td>\n",
       "      <td>mfcc_images/IEMOCAP/Session1/sentences/wav/Ses...</td>\n",
       "      <td>mfcc_images_10db/IEMOCAP/Session1/sentences/wa...</td>\n",
       "      <td>mfcc_images_20db/IEMOCAP/Session1/sentences/wa...</td>\n",
       "    </tr>\n",
       "    <tr>\n",
       "      <th>2</th>\n",
       "      <td>angry</td>\n",
       "      <td>/content/DSER-MIDCA/data/IEMOCAP/Session1/sent...</td>\n",
       "      <td>IEMOCAP</td>\n",
       "      <td>mfcc_images/IEMOCAP/Session1/sentences/wav/Ses...</td>\n",
       "      <td>mfcc_images_10db/IEMOCAP/Session1/sentences/wa...</td>\n",
       "      <td>mfcc_images_20db/IEMOCAP/Session1/sentences/wa...</td>\n",
       "    </tr>\n",
       "    <tr>\n",
       "      <th>3</th>\n",
       "      <td>angry</td>\n",
       "      <td>/content/DSER-MIDCA/data/IEMOCAP/Session1/sent...</td>\n",
       "      <td>IEMOCAP</td>\n",
       "      <td>mfcc_images/IEMOCAP/Session1/sentences/wav/Ses...</td>\n",
       "      <td>mfcc_images_10db/IEMOCAP/Session1/sentences/wa...</td>\n",
       "      <td>mfcc_images_20db/IEMOCAP/Session1/sentences/wa...</td>\n",
       "    </tr>\n",
       "    <tr>\n",
       "      <th>4</th>\n",
       "      <td>neutral</td>\n",
       "      <td>/content/DSER-MIDCA/data/IEMOCAP/Session1/sent...</td>\n",
       "      <td>IEMOCAP</td>\n",
       "      <td>mfcc_images/IEMOCAP/Session1/sentences/wav/Ses...</td>\n",
       "      <td>mfcc_images_10db/IEMOCAP/Session1/sentences/wa...</td>\n",
       "      <td>mfcc_images_20db/IEMOCAP/Session1/sentences/wa...</td>\n",
       "    </tr>\n",
       "  </tbody>\n",
       "</table>\n",
       "</div>"
      ],
      "text/plain": [
       "  Emotions                                               Path   Source  \\\n",
       "0  neutral  /content/DSER-MIDCA/data/IEMOCAP/Session1/sent...  IEMOCAP   \n",
       "1  neutral  /content/DSER-MIDCA/data/IEMOCAP/Session1/sent...  IEMOCAP   \n",
       "2    angry  /content/DSER-MIDCA/data/IEMOCAP/Session1/sent...  IEMOCAP   \n",
       "3    angry  /content/DSER-MIDCA/data/IEMOCAP/Session1/sent...  IEMOCAP   \n",
       "4  neutral  /content/DSER-MIDCA/data/IEMOCAP/Session1/sent...  IEMOCAP   \n",
       "\n",
       "                                     MFCC_Image_Path  \\\n",
       "0  mfcc_images/IEMOCAP/Session1/sentences/wav/Ses...   \n",
       "1  mfcc_images/IEMOCAP/Session1/sentences/wav/Ses...   \n",
       "2  mfcc_images/IEMOCAP/Session1/sentences/wav/Ses...   \n",
       "3  mfcc_images/IEMOCAP/Session1/sentences/wav/Ses...   \n",
       "4  mfcc_images/IEMOCAP/Session1/sentences/wav/Ses...   \n",
       "\n",
       "                           MFCC_Image_Path_10db_AWGN  \\\n",
       "0  mfcc_images_10db/IEMOCAP/Session1/sentences/wa...   \n",
       "1  mfcc_images_10db/IEMOCAP/Session1/sentences/wa...   \n",
       "2  mfcc_images_10db/IEMOCAP/Session1/sentences/wa...   \n",
       "3  mfcc_images_10db/IEMOCAP/Session1/sentences/wa...   \n",
       "4  mfcc_images_10db/IEMOCAP/Session1/sentences/wa...   \n",
       "\n",
       "                           MFCC_Image_Path_20db_AWGN  \n",
       "0  mfcc_images_20db/IEMOCAP/Session1/sentences/wa...  \n",
       "1  mfcc_images_20db/IEMOCAP/Session1/sentences/wa...  \n",
       "2  mfcc_images_20db/IEMOCAP/Session1/sentences/wa...  \n",
       "3  mfcc_images_20db/IEMOCAP/Session1/sentences/wa...  \n",
       "4  mfcc_images_20db/IEMOCAP/Session1/sentences/wa...  "
      ]
     },
     "execution_count": 11,
     "metadata": {},
     "output_type": "execute_result"
    }
   ],
   "source": [
    "common_emotions.head()"
   ]
  },
  {
   "cell_type": "code",
   "execution_count": 14,
   "id": "80c82882-0ce6-4b42-bb8d-47a7ba2f10c1",
   "metadata": {},
   "outputs": [],
   "source": [
    "# Emotions to select - \n",
    "emotions_selected = ['happy', 'neutral', 'angry', 'sad']"
   ]
  },
  {
   "cell_type": "code",
   "execution_count": null,
   "id": "a011657c-b495-4e17-af73-f485cf7a1ef9",
   "metadata": {},
   "outputs": [],
   "source": [
    "common_emotions_selected = common_emotions[common_emotions[\"Emotions\"].isin(emotions_selected)]\n"
   ]
  },
  {
   "cell_type": "code",
   "execution_count": 17,
   "id": "80d07a22-bd08-45c1-8eb8-3453fe74f947",
   "metadata": {},
   "outputs": [],
   "source": [
    "def get_emotion_count(common_emotions):\n",
    "    df_emotions=common_emotions[[\"Source\",\"Emotions\"]].value_counts().reset_index().sort_values(by=\"Source\")\\\n",
    "    .reset_index(drop=True)\n",
    "    df_emotions.columns=['Source', 'Emotions','Count']\n",
    "    return df_emotions\n",
    "df_emotions = get_emotion_count(common_emotions)"
   ]
  },
  {
   "cell_type": "code",
   "execution_count": null,
   "id": "b91a532b",
   "metadata": {},
   "outputs": [
    {
     "data": {
      "text/plain": [
       "array(['disgust', 'fear', 'happy', 'neutral', 'angry', 'sad'],\n",
       "      dtype=object)"
      ]
     },
     "metadata": {},
     "output_type": "display_data"
    }
   ],
   "source": [
    "df_emotions.Emotions.unique()"
   ]
  },
  {
   "cell_type": "code",
   "execution_count": null,
   "id": "00813b83",
   "metadata": {},
   "outputs": [
    {
     "data": {
      "text/plain": [
       "<AxesSubplot:xlabel='Emotions', ylabel='Count'>"
      ]
     },
     "metadata": {},
     "output_type": "display_data"
    },
    {
     "data": {
      "image/png": "[encoded data removed]",
      "text/plain": [
       "<Figure size 432x288 with 1 Axes>"
      ]
     },
     "metadata": {},
     "output_type": "display_data"
    }
   ],
   "source": [
    "sns.barplot(data=df_emotions,x=\"Emotions\",y=\"Count\")   \n"
   ]
  },
  {
   "cell_type": "code",
   "execution_count": 18,
   "id": "41688683-8c22-467f-836d-a51a36c65511",
   "metadata": {},
   "outputs": [],
   "source": [
    "df_emotions = df_emotions[df_emotions[\"Emotions\"].isin(emotions_selected)]"
   ]
  },
  {
   "cell_type": "code",
   "execution_count": null,
   "id": "8e7dfec3",
   "metadata": {},
   "outputs": [
    {
     "data": {
      "text/plain": [
       "<AxesSubplot:xlabel='Source', ylabel='Count'>"
      ]
     },
     "metadata": {},
     "output_type": "display_data"
    },
    {
     "data": {
      "image/png": "[encoded data removed]",
      "text/plain": [
       "<Figure size 432x288 with 1 Axes>"
      ]
     },
     "metadata": {},
     "output_type": "display_data"
    }
   ],
   "source": [
    "sns.barplot(data=df_emotions,x=\"Source\",y=\"Count\",hue=\"Emotions\")   \n"
   ]
  },
  {
   "cell_type": "code",
   "execution_count": 19,
   "id": "f2af50e3-7c92-45e7-9abd-f539f2b7ec1e",
   "metadata": {},
   "outputs": [
    {
     "data": {
      "text/html": [
       "<div>\n",
       "<style scoped>\n",
       "    .dataframe tbody tr th:only-of-type {\n",
       "        vertical-align: middle;\n",
       "    }\n",
       "\n",
       "    .dataframe tbody tr th {\n",
       "        vertical-align: top;\n",
       "    }\n",
       "\n",
       "    .dataframe thead th {\n",
       "        text-align: right;\n",
       "    }\n",
       "</style>\n",
       "<table border=\"1\" class=\"dataframe\">\n",
       "  <thead>\n",
       "    <tr style=\"text-align: right;\">\n",
       "      <th></th>\n",
       "      <th>Source</th>\n",
       "      <th>Emotions</th>\n",
       "      <th>Count</th>\n",
       "    </tr>\n",
       "  </thead>\n",
       "  <tbody>\n",
       "    <tr>\n",
       "      <th>6</th>\n",
       "      <td>IEMOCAP</td>\n",
       "      <td>neutral</td>\n",
       "      <td>1708</td>\n",
       "    </tr>\n",
       "    <tr>\n",
       "      <th>9</th>\n",
       "      <td>IEMOCAP</td>\n",
       "      <td>happy</td>\n",
       "      <td>595</td>\n",
       "    </tr>\n",
       "    <tr>\n",
       "      <th>10</th>\n",
       "      <td>IEMOCAP</td>\n",
       "      <td>sad</td>\n",
       "      <td>1084</td>\n",
       "    </tr>\n",
       "    <tr>\n",
       "      <th>11</th>\n",
       "      <td>IEMOCAP</td>\n",
       "      <td>angry</td>\n",
       "      <td>1103</td>\n",
       "    </tr>\n",
       "  </tbody>\n",
       "</table>\n",
       "</div>"
      ],
      "text/plain": [
       "     Source Emotions  Count\n",
       "6   IEMOCAP  neutral   1708\n",
       "9   IEMOCAP    happy    595\n",
       "10  IEMOCAP      sad   1084\n",
       "11  IEMOCAP    angry   1103"
      ]
     },
     "execution_count": 19,
     "metadata": {},
     "output_type": "execute_result"
    }
   ],
   "source": [
    "df_emotions[df_emotions[\"Source\"]==\"IEMOCAP\"]"
   ]
  },
  {
   "cell_type": "code",
   "execution_count": 20,
   "id": "d71f7b9a-545e-4dcf-89eb-ff24a1abad8f",
   "metadata": {},
   "outputs": [
    {
     "data": {
      "text/html": [
       "<div>\n",
       "<style scoped>\n",
       "    .dataframe tbody tr th:only-of-type {\n",
       "        vertical-align: middle;\n",
       "    }\n",
       "\n",
       "    .dataframe tbody tr th {\n",
       "        vertical-align: top;\n",
       "    }\n",
       "\n",
       "    .dataframe thead th {\n",
       "        text-align: right;\n",
       "    }\n",
       "</style>\n",
       "<table border=\"1\" class=\"dataframe\">\n",
       "  <thead>\n",
       "    <tr style=\"text-align: right;\">\n",
       "      <th></th>\n",
       "      <th>Source</th>\n",
       "      <th>Emotions</th>\n",
       "      <th>Count</th>\n",
       "    </tr>\n",
       "  </thead>\n",
       "  <tbody>\n",
       "    <tr>\n",
       "      <th>2</th>\n",
       "      <td>EMODB</td>\n",
       "      <td>happy</td>\n",
       "      <td>71</td>\n",
       "    </tr>\n",
       "    <tr>\n",
       "      <th>3</th>\n",
       "      <td>EMODB</td>\n",
       "      <td>neutral</td>\n",
       "      <td>79</td>\n",
       "    </tr>\n",
       "    <tr>\n",
       "      <th>4</th>\n",
       "      <td>EMODB</td>\n",
       "      <td>angry</td>\n",
       "      <td>127</td>\n",
       "    </tr>\n",
       "    <tr>\n",
       "      <th>5</th>\n",
       "      <td>EMODB</td>\n",
       "      <td>sad</td>\n",
       "      <td>143</td>\n",
       "    </tr>\n",
       "  </tbody>\n",
       "</table>\n",
       "</div>"
      ],
      "text/plain": [
       "  Source Emotions  Count\n",
       "2  EMODB    happy     71\n",
       "3  EMODB  neutral     79\n",
       "4  EMODB    angry    127\n",
       "5  EMODB      sad    143"
      ]
     },
     "execution_count": 20,
     "metadata": {},
     "output_type": "execute_result"
    }
   ],
   "source": [
    "df_emotions[df_emotions[\"Source\"]==\"EMODB\"]"
   ]
  },
  {
   "cell_type": "code",
   "execution_count": 21,
   "id": "43a09f3b-2fe7-46a2-93f4-2829a3fdb295",
   "metadata": {},
   "outputs": [
    {
     "data": {
      "text/html": [
       "<div>\n",
       "<style scoped>\n",
       "    .dataframe tbody tr th:only-of-type {\n",
       "        vertical-align: middle;\n",
       "    }\n",
       "\n",
       "    .dataframe tbody tr th {\n",
       "        vertical-align: top;\n",
       "    }\n",
       "\n",
       "    .dataframe thead th {\n",
       "        text-align: right;\n",
       "    }\n",
       "</style>\n",
       "<table border=\"1\" class=\"dataframe\">\n",
       "  <thead>\n",
       "    <tr style=\"text-align: right;\">\n",
       "      <th></th>\n",
       "      <th>Source</th>\n",
       "      <th>Emotions</th>\n",
       "      <th>Count</th>\n",
       "    </tr>\n",
       "  </thead>\n",
       "  <tbody>\n",
       "    <tr>\n",
       "      <th>18</th>\n",
       "      <td>SAVEE</td>\n",
       "      <td>angry</td>\n",
       "      <td>60</td>\n",
       "    </tr>\n",
       "    <tr>\n",
       "      <th>21</th>\n",
       "      <td>SAVEE</td>\n",
       "      <td>happy</td>\n",
       "      <td>60</td>\n",
       "    </tr>\n",
       "    <tr>\n",
       "      <th>22</th>\n",
       "      <td>SAVEE</td>\n",
       "      <td>sad</td>\n",
       "      <td>60</td>\n",
       "    </tr>\n",
       "    <tr>\n",
       "      <th>23</th>\n",
       "      <td>SAVEE</td>\n",
       "      <td>neutral</td>\n",
       "      <td>120</td>\n",
       "    </tr>\n",
       "  </tbody>\n",
       "</table>\n",
       "</div>"
      ],
      "text/plain": [
       "   Source Emotions  Count\n",
       "18  SAVEE    angry     60\n",
       "21  SAVEE    happy     60\n",
       "22  SAVEE      sad     60\n",
       "23  SAVEE  neutral    120"
      ]
     },
     "execution_count": 21,
     "metadata": {},
     "output_type": "execute_result"
    }
   ],
   "source": [
    "df_emotions[df_emotions[\"Source\"]==\"SAVEE\"]"
   ]
  },
  {
   "cell_type": "code",
   "execution_count": 22,
   "id": "a5050a2d-2c98-4f7a-b920-4c0bb6db512e",
   "metadata": {},
   "outputs": [
    {
     "data": {
      "text/html": [
       "<div>\n",
       "<style scoped>\n",
       "    .dataframe tbody tr th:only-of-type {\n",
       "        vertical-align: middle;\n",
       "    }\n",
       "\n",
       "    .dataframe tbody tr th {\n",
       "        vertical-align: top;\n",
       "    }\n",
       "\n",
       "    .dataframe thead th {\n",
       "        text-align: right;\n",
       "    }\n",
       "</style>\n",
       "<table border=\"1\" class=\"dataframe\">\n",
       "  <thead>\n",
       "    <tr style=\"text-align: right;\">\n",
       "      <th></th>\n",
       "      <th>Source</th>\n",
       "      <th>Emotions</th>\n",
       "      <th>Count</th>\n",
       "    </tr>\n",
       "  </thead>\n",
       "  <tbody>\n",
       "    <tr>\n",
       "      <th>13</th>\n",
       "      <td>RAVDESS</td>\n",
       "      <td>happy</td>\n",
       "      <td>192</td>\n",
       "    </tr>\n",
       "    <tr>\n",
       "      <th>14</th>\n",
       "      <td>RAVDESS</td>\n",
       "      <td>sad</td>\n",
       "      <td>192</td>\n",
       "    </tr>\n",
       "    <tr>\n",
       "      <th>15</th>\n",
       "      <td>RAVDESS</td>\n",
       "      <td>neutral</td>\n",
       "      <td>96</td>\n",
       "    </tr>\n",
       "    <tr>\n",
       "      <th>16</th>\n",
       "      <td>RAVDESS</td>\n",
       "      <td>angry</td>\n",
       "      <td>192</td>\n",
       "    </tr>\n",
       "  </tbody>\n",
       "</table>\n",
       "</div>"
      ],
      "text/plain": [
       "     Source Emotions  Count\n",
       "13  RAVDESS    happy    192\n",
       "14  RAVDESS      sad    192\n",
       "15  RAVDESS  neutral     96\n",
       "16  RAVDESS    angry    192"
      ]
     },
     "execution_count": 22,
     "metadata": {},
     "output_type": "execute_result"
    }
   ],
   "source": [
    "df_emotions[df_emotions[\"Source\"]==\"RAVDESS\"]"
   ]
  },
  {
   "cell_type": "code",
   "execution_count": 23,
   "id": "50f70453-de80-440a-ae50-d850b477e35c",
   "metadata": {},
   "outputs": [],
   "source": [
    "max_sample ={ \"IEMOCAP\" : 1084,\"EMODB\" : 143,\"SAVEE\" : 60 , \"RAVDESS\": 192 }"
   ]
  },
  {
   "cell_type": "code",
   "execution_count": 24,
   "id": "ce5e2b14-3f7f-4ede-8dea-d21c156d82f4",
   "metadata": {},
   "outputs": [],
   "source": [
    "train_combined_data=[]\n",
    "for k,v in max_sample.items():\n",
    "    training_data_source = common_emotions_selected[common_emotions_selected[\"Source\"]==k]\n",
    "    for em in emotions_selected:\n",
    "        emotion_data = training_data_source[training_data_source[\"Emotions\"]==em]\n",
    "        if len(emotion_data)>v:\n",
    "            train_combined_data.append(emotion_data.sample(v))\n",
    "        else:\n",
    "            train_combined_data.append(emotion_data)"
   ]
  },
  {
   "cell_type": "code",
   "execution_count": 27,
   "id": "cd2d365f-eed7-4cfe-8b1e-7500af27e716",
   "metadata": {},
   "outputs": [],
   "source": [
    "df_train_data = pd.concat(train_combined_data)"
   ]
  },
  {
   "cell_type": "code",
   "execution_count": 37,
   "id": "1c04ed14-5f13-423b-b1ff-74cadf7a5932",
   "metadata": {},
   "outputs": [
    {
     "data": {
      "text/plain": [
       "Index(['Emotions', 'Path', 'Source', 'MFCC_Image_Path',\n",
       "       'MFCC_Image_Path_10db_AWGN', 'MFCC_Image_Path_20db_AWGN'],\n",
       "      dtype='object')"
      ]
     },
     "execution_count": 37,
     "metadata": {},
     "output_type": "execute_result"
    }
   ],
   "source": [
    "df_train_data.columns"
   ]
  },
  {
   "cell_type": "code",
   "execution_count": 29,
   "id": "24400375-81c8-417a-be5f-a121ea80f6d7",
   "metadata": {},
   "outputs": [],
   "source": [
    "df_emotions_train = get_emotion_count(df_train_data)"
   ]
  },
  {
   "cell_type": "code",
   "execution_count": 30,
   "id": "2fc89888-eaf5-4631-94d9-5ef677c73f88",
   "metadata": {},
   "outputs": [
    {
     "data": {
      "text/html": [
       "<div>\n",
       "<style scoped>\n",
       "    .dataframe tbody tr th:only-of-type {\n",
       "        vertical-align: middle;\n",
       "    }\n",
       "\n",
       "    .dataframe tbody tr th {\n",
       "        vertical-align: top;\n",
       "    }\n",
       "\n",
       "    .dataframe thead th {\n",
       "        text-align: right;\n",
       "    }\n",
       "</style>\n",
       "<table border=\"1\" class=\"dataframe\">\n",
       "  <thead>\n",
       "    <tr style=\"text-align: right;\">\n",
       "      <th></th>\n",
       "      <th>Source</th>\n",
       "      <th>Emotions</th>\n",
       "      <th>Count</th>\n",
       "    </tr>\n",
       "  </thead>\n",
       "  <tbody>\n",
       "    <tr>\n",
       "      <th>0</th>\n",
       "      <td>EMODB</td>\n",
       "      <td>sad</td>\n",
       "      <td>143</td>\n",
       "    </tr>\n",
       "    <tr>\n",
       "      <th>1</th>\n",
       "      <td>EMODB</td>\n",
       "      <td>angry</td>\n",
       "      <td>127</td>\n",
       "    </tr>\n",
       "    <tr>\n",
       "      <th>2</th>\n",
       "      <td>EMODB</td>\n",
       "      <td>neutral</td>\n",
       "      <td>79</td>\n",
       "    </tr>\n",
       "    <tr>\n",
       "      <th>3</th>\n",
       "      <td>EMODB</td>\n",
       "      <td>happy</td>\n",
       "      <td>71</td>\n",
       "    </tr>\n",
       "    <tr>\n",
       "      <th>4</th>\n",
       "      <td>IEMOCAP</td>\n",
       "      <td>angry</td>\n",
       "      <td>1084</td>\n",
       "    </tr>\n",
       "    <tr>\n",
       "      <th>5</th>\n",
       "      <td>IEMOCAP</td>\n",
       "      <td>neutral</td>\n",
       "      <td>1084</td>\n",
       "    </tr>\n",
       "    <tr>\n",
       "      <th>6</th>\n",
       "      <td>IEMOCAP</td>\n",
       "      <td>sad</td>\n",
       "      <td>1084</td>\n",
       "    </tr>\n",
       "    <tr>\n",
       "      <th>7</th>\n",
       "      <td>IEMOCAP</td>\n",
       "      <td>happy</td>\n",
       "      <td>595</td>\n",
       "    </tr>\n",
       "    <tr>\n",
       "      <th>8</th>\n",
       "      <td>RAVDESS</td>\n",
       "      <td>angry</td>\n",
       "      <td>192</td>\n",
       "    </tr>\n",
       "    <tr>\n",
       "      <th>9</th>\n",
       "      <td>RAVDESS</td>\n",
       "      <td>happy</td>\n",
       "      <td>192</td>\n",
       "    </tr>\n",
       "    <tr>\n",
       "      <th>10</th>\n",
       "      <td>RAVDESS</td>\n",
       "      <td>sad</td>\n",
       "      <td>192</td>\n",
       "    </tr>\n",
       "    <tr>\n",
       "      <th>11</th>\n",
       "      <td>RAVDESS</td>\n",
       "      <td>neutral</td>\n",
       "      <td>96</td>\n",
       "    </tr>\n",
       "    <tr>\n",
       "      <th>12</th>\n",
       "      <td>SAVEE</td>\n",
       "      <td>angry</td>\n",
       "      <td>60</td>\n",
       "    </tr>\n",
       "    <tr>\n",
       "      <th>13</th>\n",
       "      <td>SAVEE</td>\n",
       "      <td>happy</td>\n",
       "      <td>60</td>\n",
       "    </tr>\n",
       "    <tr>\n",
       "      <th>14</th>\n",
       "      <td>SAVEE</td>\n",
       "      <td>neutral</td>\n",
       "      <td>60</td>\n",
       "    </tr>\n",
       "    <tr>\n",
       "      <th>15</th>\n",
       "      <td>SAVEE</td>\n",
       "      <td>sad</td>\n",
       "      <td>60</td>\n",
       "    </tr>\n",
       "  </tbody>\n",
       "</table>\n",
       "</div>"
      ],
      "text/plain": [
       "     Source Emotions  Count\n",
       "0     EMODB      sad    143\n",
       "1     EMODB    angry    127\n",
       "2     EMODB  neutral     79\n",
       "3     EMODB    happy     71\n",
       "4   IEMOCAP    angry   1084\n",
       "5   IEMOCAP  neutral   1084\n",
       "6   IEMOCAP      sad   1084\n",
       "7   IEMOCAP    happy    595\n",
       "8   RAVDESS    angry    192\n",
       "9   RAVDESS    happy    192\n",
       "10  RAVDESS      sad    192\n",
       "11  RAVDESS  neutral     96\n",
       "12    SAVEE    angry     60\n",
       "13    SAVEE    happy     60\n",
       "14    SAVEE  neutral     60\n",
       "15    SAVEE      sad     60"
      ]
     },
     "execution_count": 30,
     "metadata": {},
     "output_type": "execute_result"
    }
   ],
   "source": [
    "df_emotions_train"
   ]
  },
  {
   "cell_type": "code",
   "execution_count": 31,
   "id": "449181b4-b84d-4216-a722-88799bffdc3b",
   "metadata": {},
   "outputs": [],
   "source": [
    "data_sample_to_take = { \"IEMOCAP\" :{\"happy\" : 489}, \"EMODB\" :{\"angry\" : 16, \"neutral\" :64 , \"happy\" : 72},\"RAVDESS\" : {\"neutral\" : 96} }"
   ]
  },
  {
   "cell_type": "code",
   "execution_count": 32,
   "id": "ec20a702-57fa-4cae-b9b2-53fa934e91d6",
   "metadata": {},
   "outputs": [
    {
     "data": {
      "text/plain": [
       "{'IEMOCAP': {'happy': 489},\n",
       " 'EMODB': {'angry': 16, 'neutral': 64, 'happy': 72},\n",
       " 'RAVDESS': {'neutral': 96}}"
      ]
     },
     "execution_count": 32,
     "metadata": {},
     "output_type": "execute_result"
    }
   ],
   "source": [
    "data_sample_to_take"
   ]
  },
  {
   "cell_type": "markdown",
   "id": "2977c3ad",
   "metadata": {},
   "source": [
    "## Fixing Class Balance"
   ]
  },
  {
   "cell_type": "code",
   "execution_count": 34,
   "id": "a8aafa0a-0b76-4df5-9263-981b16be0c38",
   "metadata": {},
   "outputs": [],
   "source": [
    "augmented_data_10db=[]\n",
    "augmented_data_20db=[]\n",
    "\n",
    "for k,v in data_sample_to_take.items():\n",
    "    training_data_source = common_emotions_selected[common_emotions_selected[\"Source\"]==k]\n",
    "    for ek, ev  in v.items():        \n",
    "        emotion_data = training_data_source[training_data_source[\"Emotions\"]==ek]\n",
    "        count_10db_sample = ev//2\n",
    "        count_20db_sample = ev-count_10db_sample\n",
    "        augmented_data_10db.append(emotion_data.sample(count_10db_sample))\n",
    "        augmented_data_20db.append(emotion_data.sample(count_20db_sample))"
   ]
  },
  {
   "cell_type": "code",
   "execution_count": 35,
   "id": "1496b0f0-1d82-42d4-97f8-4c7bd9f208c7",
   "metadata": {},
   "outputs": [],
   "source": [
    "df_augmented_data_10db =pd.concat(augmented_data_10db)\n",
    "df_augmented_data_20db =pd.concat(augmented_data_20db)"
   ]
  },
  {
   "cell_type": "code",
   "execution_count": 36,
   "id": "6f798d23-002c-4af8-b037-09a4e362a726",
   "metadata": {},
   "outputs": [],
   "source": [
    "train_data = pd.DataFrame(columns=[\"emotion\",\"source\",\"path\",\"augmented\"])"
   ]
  },
  {
   "cell_type": "code",
   "execution_count": 38,
   "id": "b544b1c4-cb35-41b4-9d76-5d7ecc1b262b",
   "metadata": {},
   "outputs": [],
   "source": [
    "source_train_data = df_train_data[[\"Emotions\",\"Source\",\"MFCC_Image_Path\"]]"
   ]
  },
  {
   "cell_type": "code",
   "execution_count": 39,
   "id": "c5d72587-64c0-4950-9e63-c0f9864b538d",
   "metadata": {},
   "outputs": [],
   "source": [
    "source_train_data[\"augmented\"]=0"
   ]
  },
  {
   "cell_type": "code",
   "execution_count": 40,
   "id": "397c7638-c31b-4984-97b3-37abd97408ec",
   "metadata": {},
   "outputs": [],
   "source": [
    "source_train_data.columns =  train_data.columns"
   ]
  },
  {
   "cell_type": "code",
   "execution_count": 41,
   "id": "8fa85bc6-5ab6-4008-828c-4a9f456306de",
   "metadata": {},
   "outputs": [],
   "source": [
    "aug_10db_train_data = df_augmented_data_10db[[\"Emotions\",\"Source\",\"MFCC_Image_Path_10db_AWGN\"]]\n",
    "aug_10db_train_data[\"augmented\"]=10\n",
    "aug_10db_train_data.columns =  train_data.columns"
   ]
  },
  {
   "cell_type": "code",
   "execution_count": 42,
   "id": "be557d63-a975-460e-833b-10828fe0bbd8",
   "metadata": {},
   "outputs": [],
   "source": [
    "aug_20db_train_data = df_augmented_data_20db[[\"Emotions\",\"Source\",\"MFCC_Image_Path_20db_AWGN\"]]\n",
    "aug_20db_train_data[\"augmented\"]=20\n",
    "aug_20db_train_data.columns =  train_data.columns"
   ]
  },
  {
   "cell_type": "code",
   "execution_count": 43,
   "id": "70d58763-e359-49c7-b48f-39e2c87377b0",
   "metadata": {},
   "outputs": [],
   "source": [
    "train_data = pd.concat([source_train_data,aug_10db_train_data,aug_20db_train_data])"
   ]
  },
  {
   "cell_type": "code",
   "execution_count": 44,
   "id": "9aea415e-f39e-4e3c-b5e8-5d2639641a0a",
   "metadata": {},
   "outputs": [],
   "source": [
    "train_data.reset_index(drop=True,inplace=True)"
   ]
  },
  {
   "cell_type": "code",
   "execution_count": 45,
   "id": "d9b3d15a-a68d-4719-930d-ac726b6e4fbd",
   "metadata": {},
   "outputs": [
    {
     "data": {
      "text/html": [
       "<div>\n",
       "<style scoped>\n",
       "    .dataframe tbody tr th:only-of-type {\n",
       "        vertical-align: middle;\n",
       "    }\n",
       "\n",
       "    .dataframe tbody tr th {\n",
       "        vertical-align: top;\n",
       "    }\n",
       "\n",
       "    .dataframe thead th {\n",
       "        text-align: right;\n",
       "    }\n",
       "</style>\n",
       "<table border=\"1\" class=\"dataframe\">\n",
       "  <thead>\n",
       "    <tr style=\"text-align: right;\">\n",
       "      <th></th>\n",
       "      <th>emotion</th>\n",
       "      <th>source</th>\n",
       "      <th>path</th>\n",
       "      <th>augmented</th>\n",
       "    </tr>\n",
       "  </thead>\n",
       "  <tbody>\n",
       "    <tr>\n",
       "      <th>0</th>\n",
       "      <td>happy</td>\n",
       "      <td>IEMOCAP</td>\n",
       "      <td>mfcc_images/IEMOCAP/Session1/sentences/wav/Ses...</td>\n",
       "      <td>0</td>\n",
       "    </tr>\n",
       "    <tr>\n",
       "      <th>1</th>\n",
       "      <td>happy</td>\n",
       "      <td>IEMOCAP</td>\n",
       "      <td>mfcc_images/IEMOCAP/Session1/sentences/wav/Ses...</td>\n",
       "      <td>0</td>\n",
       "    </tr>\n",
       "    <tr>\n",
       "      <th>2</th>\n",
       "      <td>happy</td>\n",
       "      <td>IEMOCAP</td>\n",
       "      <td>mfcc_images/IEMOCAP/Session1/sentences/wav/Ses...</td>\n",
       "      <td>0</td>\n",
       "    </tr>\n",
       "    <tr>\n",
       "      <th>3</th>\n",
       "      <td>happy</td>\n",
       "      <td>IEMOCAP</td>\n",
       "      <td>mfcc_images/IEMOCAP/Session1/sentences/wav/Ses...</td>\n",
       "      <td>0</td>\n",
       "    </tr>\n",
       "    <tr>\n",
       "      <th>4</th>\n",
       "      <td>happy</td>\n",
       "      <td>IEMOCAP</td>\n",
       "      <td>mfcc_images/IEMOCAP/Session1/sentences/wav/Ses...</td>\n",
       "      <td>0</td>\n",
       "    </tr>\n",
       "  </tbody>\n",
       "</table>\n",
       "</div>"
      ],
      "text/plain": [
       "  emotion   source                                               path  \\\n",
       "0   happy  IEMOCAP  mfcc_images/IEMOCAP/Session1/sentences/wav/Ses...   \n",
       "1   happy  IEMOCAP  mfcc_images/IEMOCAP/Session1/sentences/wav/Ses...   \n",
       "2   happy  IEMOCAP  mfcc_images/IEMOCAP/Session1/sentences/wav/Ses...   \n",
       "3   happy  IEMOCAP  mfcc_images/IEMOCAP/Session1/sentences/wav/Ses...   \n",
       "4   happy  IEMOCAP  mfcc_images/IEMOCAP/Session1/sentences/wav/Ses...   \n",
       "\n",
       "   augmented  \n",
       "0          0  \n",
       "1          0  \n",
       "2          0  \n",
       "3          0  \n",
       "4          0  "
      ]
     },
     "execution_count": 45,
     "metadata": {},
     "output_type": "execute_result"
    }
   ],
   "source": [
    "train_data.head()"
   ]
  },
  {
   "cell_type": "code",
   "execution_count": 46,
   "id": "b330051a-79ab-4b64-8b24-eb338a3895ac",
   "metadata": {},
   "outputs": [
    {
     "data": {
      "text/plain": [
       "happy      1479\n",
       "neutral    1479\n",
       "angry      1479\n",
       "sad        1479\n",
       "Name: emotion, dtype: int64"
      ]
     },
     "execution_count": 46,
     "metadata": {},
     "output_type": "execute_result"
    }
   ],
   "source": [
    "train_data[\"emotion\"].value_counts()"
   ]
  },
  {
   "cell_type": "code",
   "execution_count": 47,
   "id": "1e790075-2de3-4f17-bd22-8c3ec10ff9ae",
   "metadata": {},
   "outputs": [
    {
     "data": {
      "text/plain": [
       "IEMOCAP    4336\n",
       "RAVDESS     768\n",
       "EMODB       572\n",
       "SAVEE       240\n",
       "Name: source, dtype: int64"
      ]
     },
     "execution_count": 47,
     "metadata": {},
     "output_type": "execute_result"
    }
   ],
   "source": [
    "train_data[\"source\"].value_counts()"
   ]
  },
  {
   "cell_type": "code",
   "execution_count": 48,
   "id": "943d9b1b-e9f6-4949-9136-a13ade2b1eec",
   "metadata": {},
   "outputs": [
    {
     "data": {
      "text/plain": [
       "source   emotion\n",
       "IEMOCAP  angry      1084\n",
       "         happy      1084\n",
       "         neutral    1084\n",
       "         sad        1084\n",
       "RAVDESS  angry       192\n",
       "         happy       192\n",
       "         neutral     192\n",
       "         sad         192\n",
       "EMODB    angry       143\n",
       "         happy       143\n",
       "         neutral     143\n",
       "         sad         143\n",
       "SAVEE    angry        60\n",
       "         happy        60\n",
       "         neutral      60\n",
       "         sad          60\n",
       "dtype: int64"
      ]
     },
     "execution_count": 48,
     "metadata": {},
     "output_type": "execute_result"
    }
   ],
   "source": [
    "train_data[[\"source\",\"emotion\"]].value_counts()"
   ]
  },
  {
   "cell_type": "code",
   "execution_count": 49,
   "id": "6876b99b-6b6c-4a6e-9f2f-02bd5b5ee294",
   "metadata": {},
   "outputs": [],
   "source": [
    "train_data.to_csv(\"train_data_all.csv\",index=False)"
   ]
  },
  {
   "cell_type": "markdown",
   "id": "73a3b65b",
   "metadata": {},
   "source": [
    "## Adding more augmented data for generalization"
   ]
  },
  {
   "cell_type": "code",
   "execution_count": 50,
   "id": "4254f08a-b5e0-4dce-93f9-6aa4fa27a9d7",
   "metadata": {},
   "outputs": [],
   "source": [
    "aug_gen_data = []\n",
    "for source in train_data[\"source\"].unique():\n",
    "    training_data_source = common_emotions_selected[common_emotions_selected[\"Source\"]==source]\n",
    "    sample_to_take = max_sample[source]//10\n",
    "    for em in emotions_selected:\n",
    "        emotion_data = training_data_source[training_data_source[\"Emotions\"]==em]\n",
    "        aug_10db = emotion_data[[\"Emotions\",\"Source\",\"MFCC_Image_Path_10db_AWGN\"]]\n",
    "        aug_10db[\"augmented\"] = 10\n",
    "        aug_10db.columns = train_data.columns\n",
    "        aug_10db =  aug_10db[~aug_10db[\"path\"].isin(train_data[\"path\"])]\n",
    "        aug_gen_data.append(aug_10db.sample(sample_to_take))\n",
    "                                \n",
    "        aug_20db = emotion_data[[\"Emotions\",\"Source\",\"MFCC_Image_Path_20db_AWGN\"]]\n",
    "        aug_20db[\"augmented\"] = 20\n",
    "        aug_20db.columns = train_data.columns\n",
    "        aug_20db =  aug_20db[~aug_20db[\"path\"].isin(train_data[\"path\"])]\n",
    "        aug_gen_data.append(aug_20db.sample(sample_to_take))"
   ]
  },
  {
   "cell_type": "code",
   "execution_count": 51,
   "id": "d7f5c484-1623-4f97-94f3-0ea20889fd47",
   "metadata": {},
   "outputs": [],
   "source": [
    "df_aug_gen_data = pd.concat(aug_gen_data)"
   ]
  },
  {
   "cell_type": "code",
   "execution_count": 52,
   "id": "04fb9d66-635f-4afd-a36a-688da36648c1",
   "metadata": {},
   "outputs": [
    {
     "data": {
      "text/plain": [
       "happy      294\n",
       "neutral    294\n",
       "angry      294\n",
       "sad        294\n",
       "Name: emotion, dtype: int64"
      ]
     },
     "execution_count": 52,
     "metadata": {},
     "output_type": "execute_result"
    }
   ],
   "source": [
    "df_aug_gen_data[\"emotion\"].value_counts()"
   ]
  },
  {
   "cell_type": "code",
   "execution_count": 53,
   "id": "e8ae1294-2409-4841-8d2d-1ec773f30239",
   "metadata": {},
   "outputs": [],
   "source": [
    "train_data = pd.concat([train_data,df_aug_gen_data])"
   ]
  },
  {
   "cell_type": "code",
   "execution_count": 54,
   "id": "61b7697c-e287-4adc-a970-9024c7d44f33",
   "metadata": {},
   "outputs": [],
   "source": [
    "train_data.reset_index(drop=True,inplace=True)"
   ]
  },
  {
   "cell_type": "code",
   "execution_count": 55,
   "id": "584c5ad6-032b-4d76-b202-61cfbbaa0fe7",
   "metadata": {},
   "outputs": [],
   "source": [
    "train_data.to_csv(\"train_data_all.csv\",index=False)"
   ]
  },
  {
   "cell_type": "code",
   "execution_count": 56,
   "id": "c5ba495d-cb56-4d0c-91da-8dea1406994e",
   "metadata": {},
   "outputs": [
    {
     "data": {
      "text/plain": [
       "happy      1773\n",
       "neutral    1773\n",
       "angry      1773\n",
       "sad        1773\n",
       "Name: emotion, dtype: int64"
      ]
     },
     "execution_count": 56,
     "metadata": {},
     "output_type": "execute_result"
    }
   ],
   "source": [
    "train_data[\"emotion\"].value_counts()"
   ]
  },
  {
   "cell_type": "code",
   "execution_count": 57,
   "id": "98769492-1c72-44f6-b98a-8f40e8046651",
   "metadata": {},
   "outputs": [
    {
     "data": {
      "text/plain": [
       "IEMOCAP    5200\n",
       "RAVDESS     920\n",
       "EMODB       684\n",
       "SAVEE       288\n",
       "Name: source, dtype: int64"
      ]
     },
     "execution_count": 57,
     "metadata": {},
     "output_type": "execute_result"
    }
   ],
   "source": [
    "train_data[\"source\"].value_counts()"
   ]
  },
  {
   "cell_type": "code",
   "execution_count": 58,
   "id": "40ab141a-4d80-420f-aefe-88ac9fb0a34c",
   "metadata": {},
   "outputs": [
    {
     "data": {
      "text/plain": [
       "source   emotion\n",
       "IEMOCAP  angry      1300\n",
       "         happy      1300\n",
       "         neutral    1300\n",
       "         sad        1300\n",
       "RAVDESS  angry       230\n",
       "         happy       230\n",
       "         neutral     230\n",
       "         sad         230\n",
       "EMODB    angry       171\n",
       "         happy       171\n",
       "         neutral     171\n",
       "         sad         171\n",
       "SAVEE    angry        72\n",
       "         happy        72\n",
       "         neutral      72\n",
       "         sad          72\n",
       "dtype: int64"
      ]
     },
     "execution_count": 58,
     "metadata": {},
     "output_type": "execute_result"
    }
   ],
   "source": [
    "train_data[[\"source\",\"emotion\"]].value_counts()"
   ]
  },
  {
   "cell_type": "markdown",
   "id": "96261f4f-a2a6-4e8f-be99-97303d4a52d8",
   "metadata": {},
   "source": [
    "## Creating Datasets"
   ]
  },
  {
   "cell_type": "code",
   "execution_count": 60,
   "id": "ff930493-b503-4092-805a-2ab6e9d0e0e8",
   "metadata": {},
   "outputs": [],
   "source": [
    "train_data[\"emotion_class\"] = train_data[\"emotion\"].astype(\"category\").cat.codes"
   ]
  },
  {
   "cell_type": "code",
   "execution_count": 74,
   "id": "9c61a91d-d88b-412a-a38f-43db377632f6",
   "metadata": {},
   "outputs": [],
   "source": [
    "train_data.to_csv(\"train_data_all.csv\",index=False)"
   ]
  },
  {
   "cell_type": "code",
   "execution_count": null,
   "id": "ac05faa9-1768-4cba-8245-55f282402684",
   "metadata": {},
   "outputs": [],
   "source": []
  }
 ],
 "metadata": {
  "kernelspec": {
   "display_name": "conda_python3",
   "language": "python",
   "name": "conda_python3"
  },
  "language_info": {
   "codemirror_mode": {
    "name": "ipython",
    "version": 3
   },
   "file_extension": ".py",
   "mimetype": "text/x-python",
   "name": "python",
   "nbconvert_exporter": "python",
   "pygments_lexer": "ipython3",
   "version": "3.10.6"
  }
 },
 "nbformat": 4,
 "nbformat_minor": 5
}
